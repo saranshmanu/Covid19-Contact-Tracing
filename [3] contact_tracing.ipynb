{
 "cells": [
  {
   "cell_type": "code",
   "execution_count": 20,
   "metadata": {},
   "outputs": [],
   "source": [
    "import json\n",
    "import ast\n",
    "import random\n",
    "import numpy as np\n",
    "import pandas as pd\n",
    "import matplotlib.pyplot as plt\n",
    "import seaborn as sns\n",
    "from zipfile import ZipFile"
   ]
  },
  {
   "cell_type": "code",
   "execution_count": 21,
   "metadata": {},
   "outputs": [],
   "source": [
    "data = pd.read_csv('./data/synthetic_data.csv').head(1000)"
   ]
  },
  {
   "cell_type": "code",
   "execution_count": 22,
   "metadata": {},
   "outputs": [],
   "source": [
    "data = data[['TAXI_ID', 'POLYLINE']]"
   ]
  },
  {
   "cell_type": "code",
   "execution_count": 23,
   "metadata": {},
   "outputs": [
    {
     "output_type": "stream",
     "name": "stdout",
     "text": "Total Path Trail Records used 1000\n"
    }
   ],
   "source": [
    "print('Total Path Trail Records used', len(data))"
   ]
  },
  {
   "cell_type": "code",
   "execution_count": 24,
   "metadata": {},
   "outputs": [],
   "source": [
    "taxi_id = np.unique(data['TAXI_ID'])"
   ]
  },
  {
   "cell_type": "code",
   "execution_count": 25,
   "metadata": {},
   "outputs": [
    {
     "output_type": "stream",
     "name": "stdout",
     "text": "Total People 309\n"
    }
   ],
   "source": [
    "print('Total People', len(taxi_id))"
   ]
  },
  {
   "cell_type": "code",
   "execution_count": 26,
   "metadata": {},
   "outputs": [],
   "source": [
    "coordinates = {}\n",
    "trips = np.array(data)\n",
    "for i in range(len(trips)):\n",
    "    point = trips[i]\n",
    "    keys = list(coordinates.keys())\n",
    "    if point[0] in keys:\n",
    "        appended_coordinate = ast.literal_eval(point[1]) + coordinates[point[0]]\n",
    "        coordinates[point[0]] = appended_coordinate\n",
    "    else:\n",
    "        coordinates[point[0]] = ast.literal_eval(point[1])"
   ]
  },
  {
   "cell_type": "code",
   "execution_count": 27,
   "metadata": {},
   "outputs": [],
   "source": [
    "taxi_records = [[key, value, 0] for key, value in coordinates.items()]"
   ]
  },
  {
   "cell_type": "code",
   "execution_count": 28,
   "metadata": {},
   "outputs": [],
   "source": [
    "coronavirus_cases_count = 5\n",
    "coronavirus_cases = random.sample(range(1, len(taxi_records)), coronavirus_cases_count)\n",
    "coronavirus_cases = [137, 22, 284, 178, 183] # comment the statement for random selection\n",
    "random_records = [taxi_records[i][0] for i in coronavirus_cases]"
   ]
  },
  {
   "cell_type": "code",
   "execution_count": 29,
   "metadata": {},
   "outputs": [
    {
     "output_type": "execute_result",
     "data": {
      "text/plain": "[20000304, 20000009, 20000156, 20000455, 20000281]"
     },
     "metadata": {},
     "execution_count": 29
    }
   ],
   "source": [
    "random_records"
   ]
  },
  {
   "cell_type": "code",
   "execution_count": 30,
   "metadata": {},
   "outputs": [],
   "source": [
    "from math import sin, cos, sqrt, atan2, radians\n",
    "R = 6373.0\n",
    "\n",
    "def calculate_distance(lat2, lon2, lat1, lon1):\n",
    "    lat1 = radians(lat1)\n",
    "    lon1 = radians(lon1)\n",
    "    lat2 = radians(lat2)\n",
    "    lon2 = radians(lon2)\n",
    "    dlon = lon2 - lon1\n",
    "    dlat = lat2 - lat1\n",
    "    a = (sin(dlat/2))**2 + cos(lat1) * cos(lat2) * (sin(dlon/2))**2\n",
    "    c = 2 * atan2(sqrt(a), sqrt(1-a))\n",
    "    distance = R * c\n",
    "    return(abs(distance))"
   ]
  },
  {
   "cell_type": "code",
   "execution_count": 31,
   "metadata": {},
   "outputs": [],
   "source": [
    "threshold = 0.010\n",
    "\n",
    "def check_if_contact(lat2, lon2, lat1, lon1):\n",
    "    calculated_value = calculate_distance(lat1, lon1, lat2, lon2)\n",
    "    if(calculated_value<=threshold):\n",
    "        return True\n",
    "    else:\n",
    "        return False"
   ]
  },
  {
   "cell_type": "code",
   "execution_count": 32,
   "metadata": {},
   "outputs": [
    {
     "output_type": "execute_result",
     "data": {
      "text/plain": "False"
     },
     "metadata": {},
     "execution_count": 32
    }
   ],
   "source": [
    "lat1 = 52.2296756\n",
    "lon1 = 21.0122287\n",
    "lat2 = 52.2307756\n",
    "lon2 = 21.0122287\n",
    "check_if_contact(lat1, lon1, lat2, lon2)"
   ]
  },
  {
   "cell_type": "code",
   "execution_count": 33,
   "metadata": {},
   "outputs": [
    {
     "output_type": "stream",
     "name": "stdout",
     "text": "Max distance between any two coordinates 17.403047835066882\n"
    }
   ],
   "source": [
    "distances = []\n",
    "for i in taxi_records:\n",
    "    person_travel_history = i[1]\n",
    "    max_distance = 0\n",
    "    for j in range(len(person_travel_history)-1):\n",
    "        one = person_travel_history[j]\n",
    "        two = person_travel_history[j+1]\n",
    "        flag = calculate_distance(one[0], one[1], two[0], two[1])\n",
    "        if(flag > max_distance):\n",
    "            max_distance = flag\n",
    "    distances.append(max_distance)\n",
    "print('Max distance between any two coordinates', max(distances))"
   ]
  },
  {
   "cell_type": "code",
   "execution_count": 34,
   "metadata": {},
   "outputs": [],
   "source": [
    "def calculate_total_encounters(history_one, history_two):\n",
    "    count = 0\n",
    "    for i in history_one:\n",
    "        for j in history_two:\n",
    "            if(check_if_contact(i[0], i[1], j[0], j[1])):\n",
    "                count +=1 \n",
    "    return count"
   ]
  },
  {
   "cell_type": "code",
   "execution_count": 35,
   "metadata": {},
   "outputs": [
    {
     "output_type": "stream",
     "name": "stdout",
     "text": "20000589 1\n20000596 55\n20000320 79\n20000520 34\n20000337 5\n20000231 39\n20000456 7\n20000011 41\n20000403 70\n20000233 24\n20000571 24\n20000497 8\n20000570 22\n20000005 23\n20000089 27\n20000423 10\n20000657 9\n20000309 1\n20000161 2\n20000178 30\n20000235 54\n20000653 20\n20000009 0\n20000648 25\n20000424 1\n20000010 23\n20000372 41\n20000686 23\n20000435 28\n20000154 18\n20000060 29\n20000167 25\n20000503 12\n20000621 68\n20000463 14\n20000612 20\n20000360 16\n20000574 88\n20000173 9\n20000560 10\n20000492 27\n20000112 21\n20000305 33\n20000004 40\n20000620 24\n20000671 36\n20000341 29\n20000015 26\n20000307 44\n20000171 3\n20000201 10\n20000007 28\n20000199 34\n20000611 9\n20000398 33\n20000067 18\n20000569 63\n20000473 11\n20000367 74\n20000672 59\n20000190 37\n20000600 12\n20000496 58\n20000013 12\n20000454 103\n20000534 49\n20000195 27\n20000406 9\n20000325 28\n20000101 36\n20000632 38\n20000308 33\n20000333 28\n20000481 7\n20000486 34\n20000450 53\n20000545 3\n20000665 23\n20000012 46\n20000688 66\n20000540 38\n20000436 32\n20000517 112\n20000153 31\n20000458 5\n20000577 23\n20000105 3\n20000128 14\n20000616 7\n20000477 7\n20000197 31\n20000476 41\n20000480 8\n20000451 23\n20000663 34\n20000386 39\n20000561 18\n20000472 36\n20000280 30\n20000565 21\n20000432 20\n20000329 36\n20000073 378\n20000397 22\n20000285 35\n20000286 14\n20000024 79\n20000239 8\n20000578 20\n20000514 55\n20000152 13\n20000515 19\n20000247 64\n20000344 21\n20000184 12\n20000502 10\n20000400 34\n20000256 43\n20000625 1\n20000196 26\n20000331 15\n20000678 33\n20000901 42\n20000421 25\n20000229 10\n20000381 7\n20000086 9\n20000539 2\n20000242 2\n20000662 22\n20000279 19\n20000076 14\n20000351 8\n20000529 15\n20000042 2\n20000408 10\n20000674 31\n20000304 0\n20000071 7\n20000038 3\n20000137 31\n20000618 29\n20000179 10\n20000120 65\n20000166 23\n20000151 16\n20000434 84\n20000549 11\n20000484 1\n20000075 3\n20000542 48\n20000391 43\n20000131 11\n20000346 19\n20000296 5\n20000058 4\n20000429 1\n20000268 32\n20000051 16\n20000623 44\n20000021 23\n20000046 22\n20000359 10\n20000470 18\n20000114 4\n20000188 8\n20000026 19\n20000077 24\n20000499 16\n20000180 8\n20000409 27\n20000562 31\n20000651 17\n20000669 50\n20000607 26\n20000049 6\n20000272 2\n20000189 47\n20000455 0\n20000144 3\n20000100 33\n20000576 8\n20000554 3\n20000281 0\n20000068 9\n20000050 20\n20000039 19\n20000186 0\n20000687 20\n20000104 27\n20000460 11\n20000446 31\n20000174 10\n20000255 26\n20000065 12\n20000257 4\n20000192 7\n20000507 18\n20000617 45\n20000664 5\n20000027 10\n20000267 14\n20000319 27\n20000380 9\n20000251 25\n20000163 37\n20000682 3\n20000361 15\n20000138 9\n20000495 28\n20000207 6\n20000349 11\n20000684 15\n20000525 0\n20000045 8\n20000633 25\n20000269 4\n20000640 53\n20000258 2\n20000142 7\n20000680 13\n20000116 91\n20000001 2\n20000254 6\n20000384 7\n20000377 0\n20000626 3\n20000294 25\n20000692 12\n20000030 12\n20000579 30\n20000249 22\n20000440 20\n20000271 13\n20000057 22\n20000675 1\n20000588 37\n20000363 45\n20000099 6\n20000326 12\n20000148 0\n20000546 0\n20000230 20\n20000113 10\n20000557 9\n20000376 3\n20000126 4\n20000006 5\n20000288 0\n20000311 12\n20000598 26\n20000352 9\n20000111 0\n20000222 25\n20000085 14\n20000518 2\n20000443 0\n20000330 30\n20000508 19\n20000226 0\n20000370 0\n20000602 7\n20000387 4\n20000353 0\n20000129 11\n20000524 8\n20000048 2\n20000649 1\n20000468 0\n20000467 43\n20000245 7\n20000123 0\n20000601 6\n20000093 25\n20000031 3\n20000487 2\n20000261 2\n20000676 0\n20000431 6\n20000605 29\n20000107 4\n20000047 0\n20000215 3\n20000159 8\n20000156 0\n20000338 0\n20000289 20\n20000410 1\n20000198 1\n20000685 0\n20000074 5\n20000516 1\n20000453 2\n20000604 5\n20000345 17\n20000697 2\n20000315 3\n20000541 22\n20000158 2\n20000136 67\n20000693 2\n20000094 0\n20000014 0\n20000022 6\n20000535 0\n20000054 11\n20000108 0\n20000118 20\n20000328 19\n"
    }
   ],
   "source": [
    "chances = []\n",
    "for i in taxi_records:\n",
    "    chance = 0\n",
    "    if i[0] not in random_records:\n",
    "        person_travel_history = i[1]\n",
    "        for coronavirus_case in coronavirus_cases:\n",
    "            coronavirus_patient_travel_history = taxi_records[coronavirus_case][1]\n",
    "            chance += calculate_total_encounters(person_travel_history, coronavirus_patient_travel_history)\n",
    "    chances.append(chance)\n",
    "    print(i[0], chance)"
   ]
  },
  {
   "cell_type": "code",
   "execution_count": 36,
   "metadata": {},
   "outputs": [],
   "source": [
    "total_chance_record = []\n",
    "for i in range(len(taxi_records)):\n",
    "    taxi_record = taxi_records[i]\n",
    "    record = [\n",
    "        taxi_record[0], # taxi_id\n",
    "        taxi_record[1], # path or trail\n",
    "        chances[i] # total chances\n",
    "    ]\n",
    "    total_chance_record.append(record)"
   ]
  },
  {
   "cell_type": "code",
   "execution_count": 37,
   "metadata": {},
   "outputs": [
    {
     "output_type": "execute_result",
     "data": {
      "text/plain": "            0                                                  1   2\n0    20000589  [[-8.649639, 41.1541515], [-8.6502105, 41.1539...   1\n1    20000596  [[-8.64405, 41.1588855], [-8.6440365, 41.15893...  55\n2    20000320  [[-8.606529, 41.1479325], [-8.606403, 41.14800...  79\n3    20000520  [[-8.642146499999999, 41.1650145], [-8.6421555...  34\n4    20000337  [[-8.6603985, 41.15871], [-8.659701, 41.159758...   5\n..        ...                                                ...  ..\n304  20000535  [[-8.604045, 41.1612705], [-8.604675, 41.16172...   0\n305  20000054  [[-8.606569499999999, 41.144742], [-8.6069385,...  11\n306  20000108  [[-8.653203, 41.168565], [-8.653239, 41.168898...   0\n307  20000118  [[-8.574754500000001, 41.142703499999996], [-8...  20\n308  20000328  [[-8.585649, 41.148598500000006], [-8.5858065,...  19\n\n[309 rows x 3 columns]",
      "text/html": "<div>\n<style scoped>\n    .dataframe tbody tr th:only-of-type {\n        vertical-align: middle;\n    }\n\n    .dataframe tbody tr th {\n        vertical-align: top;\n    }\n\n    .dataframe thead th {\n        text-align: right;\n    }\n</style>\n<table border=\"1\" class=\"dataframe\">\n  <thead>\n    <tr style=\"text-align: right;\">\n      <th></th>\n      <th>0</th>\n      <th>1</th>\n      <th>2</th>\n    </tr>\n  </thead>\n  <tbody>\n    <tr>\n      <td>0</td>\n      <td>20000589</td>\n      <td>[[-8.649639, 41.1541515], [-8.6502105, 41.1539...</td>\n      <td>1</td>\n    </tr>\n    <tr>\n      <td>1</td>\n      <td>20000596</td>\n      <td>[[-8.64405, 41.1588855], [-8.6440365, 41.15893...</td>\n      <td>55</td>\n    </tr>\n    <tr>\n      <td>2</td>\n      <td>20000320</td>\n      <td>[[-8.606529, 41.1479325], [-8.606403, 41.14800...</td>\n      <td>79</td>\n    </tr>\n    <tr>\n      <td>3</td>\n      <td>20000520</td>\n      <td>[[-8.642146499999999, 41.1650145], [-8.6421555...</td>\n      <td>34</td>\n    </tr>\n    <tr>\n      <td>4</td>\n      <td>20000337</td>\n      <td>[[-8.6603985, 41.15871], [-8.659701, 41.159758...</td>\n      <td>5</td>\n    </tr>\n    <tr>\n      <td>...</td>\n      <td>...</td>\n      <td>...</td>\n      <td>...</td>\n    </tr>\n    <tr>\n      <td>304</td>\n      <td>20000535</td>\n      <td>[[-8.604045, 41.1612705], [-8.604675, 41.16172...</td>\n      <td>0</td>\n    </tr>\n    <tr>\n      <td>305</td>\n      <td>20000054</td>\n      <td>[[-8.606569499999999, 41.144742], [-8.6069385,...</td>\n      <td>11</td>\n    </tr>\n    <tr>\n      <td>306</td>\n      <td>20000108</td>\n      <td>[[-8.653203, 41.168565], [-8.653239, 41.168898...</td>\n      <td>0</td>\n    </tr>\n    <tr>\n      <td>307</td>\n      <td>20000118</td>\n      <td>[[-8.574754500000001, 41.142703499999996], [-8...</td>\n      <td>20</td>\n    </tr>\n    <tr>\n      <td>308</td>\n      <td>20000328</td>\n      <td>[[-8.585649, 41.148598500000006], [-8.5858065,...</td>\n      <td>19</td>\n    </tr>\n  </tbody>\n</table>\n<p>309 rows × 3 columns</p>\n</div>"
     },
     "metadata": {},
     "execution_count": 37
    }
   ],
   "source": [
    "pd.DataFrame(total_chance_record)"
   ]
  },
  {
   "cell_type": "code",
   "execution_count": 38,
   "metadata": {},
   "outputs": [],
   "source": [
    "total_encounter = pd.DataFrame(total_chance_record)\n",
    "total_encounter = total_encounter.sort_values(by=2, ascending=False)\n",
    "total_encounter.to_csv('./data/synthetic_data_chances.csv', index = False)"
   ]
  },
  {
   "cell_type": "code",
   "execution_count": null,
   "metadata": {},
   "outputs": [],
   "source": []
  }
 ],
 "metadata": {
  "kernelspec": {
   "display_name": "Python 3",
   "language": "python",
   "name": "python3"
  },
  "language_info": {
   "codemirror_mode": {
    "name": "ipython",
    "version": 3
   },
   "file_extension": ".py",
   "mimetype": "text/x-python",
   "name": "python",
   "nbconvert_exporter": "python",
   "pygments_lexer": "ipython3",
   "version": "3.7.4-final"
  }
 },
 "nbformat": 4,
 "nbformat_minor": 2
}