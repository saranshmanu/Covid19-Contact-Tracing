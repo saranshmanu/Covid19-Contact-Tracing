{
 "cells": [
  {
   "cell_type": "code",
   "execution_count": 1,
   "metadata": {},
   "outputs": [],
   "source": [
    "import json\n",
    "import ast\n",
    "import random\n",
    "import numpy as np\n",
    "import pandas as pd\n",
    "import matplotlib.pyplot as plt\n",
    "import seaborn as sns\n",
    "from zipfile import ZipFile"
   ]
  },
  {
   "cell_type": "code",
   "execution_count": 2,
   "metadata": {},
   "outputs": [],
   "source": [
    "data = pd.read_csv('./data/test.csv').head(1000)\n",
    "data = data[['TAXI_ID', 'POLYLINE']]"
   ]
  },
  {
   "cell_type": "code",
   "execution_count": 3,
   "metadata": {},
   "outputs": [],
   "source": [
    "coordinates = {}\n",
    "trips = np.array(data)\n",
    "for i in range(len(trips)):\n",
    "    point = trips[i]\n",
    "    keys = list(coordinates.keys())\n",
    "    if point[0] in keys:\n",
    "        appended_coordinate = ast.literal_eval(point[1]) + coordinates[point[0]]\n",
    "        coordinates[point[0]] = appended_coordinate\n",
    "    else:\n",
    "        coordinates[point[0]] = ast.literal_eval(point[1])"
   ]
  },
  {
   "cell_type": "code",
   "execution_count": 8,
   "metadata": {},
   "outputs": [],
   "source": [
    "def intermediates(p1, p2, nb_points=8):\n",
    "    x_spacing = (p2[0] - p1[0]) / (nb_points + 1)\n",
    "    y_spacing = (p2[1] - p1[1]) / (nb_points + 1)\n",
    "    return [[p1[0] + i * x_spacing, p1[1] +  i * y_spacing] \n",
    "            for i in range(1, nb_points+1)]"
   ]
  },
  {
   "cell_type": "code",
   "execution_count": 18,
   "metadata": {},
   "outputs": [
    {
     "name": "stdout",
     "output_type": "stream",
     "text": [
      "[[2.5, 2.75], [4.0, 3.5], [5.5, 4.25], [7.0, 5.0], [8.5, 5.75]]\n"
     ]
    }
   ],
   "source": [
    "print(intermediates([1, 2], [10, 6.5], nb_points=5))"
   ]
  },
  {
   "cell_type": "code",
   "execution_count": 19,
   "metadata": {},
   "outputs": [],
   "source": [
    "from math import sin, cos, sqrt, atan2, radians\n",
    "R = 6373.0\n",
    "\n",
    "def calculate_distance(lat2, lon2, lat1, lon1):\n",
    "    lat1 = radians(lat1)\n",
    "    lon1 = radians(lon1)\n",
    "    lat2 = radians(lat2)\n",
    "    lon2 = radians(lon2)\n",
    "    dlon = lon2 - lon1\n",
    "    dlat = lat2 - lat1\n",
    "    a = (sin(dlat/2))**2 + cos(lat1) * cos(lat2) * (sin(dlon/2))**2\n",
    "    c = 2 * atan2(sqrt(a), sqrt(1-a))\n",
    "    distance = R * c\n",
    "    return(abs(distance))"
   ]
  },
  {
   "cell_type": "code",
   "execution_count": 35,
   "metadata": {},
   "outputs": [],
   "source": [
    "precision = 0.01 # 10 meters\n",
    "\n",
    "def generate_points(coordinate_one, coordinate_two):\n",
    "    distance = calculate_distance(coordinate_one[0], coordinate_one[1], coordinate_two[0],coordinate_two[1])\n",
    "    if(distance >= precision):\n",
    "        total_generated_points = int(abs(distance//precision))\n",
    "        print(total_generated_points)\n",
    "        return intermediates(coordinate_one, coordinate_two, nb_points=total_generated_points)\n",
    "    else:\n",
    "        return intermediates(coordinate_one, coordinate_two, nb_points=1)"
   ]
  },
  {
   "cell_type": "code",
   "execution_count": 43,
   "metadata": {},
   "outputs": [
    {
     "name": "stdout",
     "output_type": "stream",
     "text": [
      "15\n"
     ]
    },
    {
     "data": {
      "text/plain": [
       "[[1.0019375, 2.0099375],\n",
       " [1.001875, 2.0098749999999996],\n",
       " [1.0018125, 2.0098125],\n",
       " [1.00175, 2.00975],\n",
       " [1.0016875, 2.0096874999999996],\n",
       " [1.001625, 2.0096249999999998],\n",
       " [1.0015625, 2.0095625],\n",
       " [1.0015, 2.0095],\n",
       " [1.0014375, 2.0094374999999998],\n",
       " [1.001375, 2.009375],\n",
       " [1.0013124999999998, 2.0093125],\n",
       " [1.00125, 2.0092499999999998],\n",
       " [1.0011875, 2.0091875],\n",
       " [1.0011249999999998, 2.009125],\n",
       " [1.0010625, 2.0090624999999998]]"
      ]
     },
     "execution_count": 43,
     "metadata": {},
     "output_type": "execute_result"
    }
   ],
   "source": [
    "generate_points([1.002, 2.010], [1.001, 2.009])"
   ]
  },
  {
   "cell_type": "code",
   "execution_count": null,
   "metadata": {},
   "outputs": [],
   "source": []
  }
 ],
 "metadata": {
  "kernelspec": {
   "display_name": "Python 3",
   "language": "python",
   "name": "python3"
  },
  "language_info": {
   "codemirror_mode": {
    "name": "ipython",
    "version": 3
   },
   "file_extension": ".py",
   "mimetype": "text/x-python",
   "name": "python",
   "nbconvert_exporter": "python",
   "pygments_lexer": "ipython3",
   "version": "3.6.5"
  }
 },
 "nbformat": 4,
 "nbformat_minor": 2
}
