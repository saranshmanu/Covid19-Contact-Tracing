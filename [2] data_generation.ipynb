{
 "cells": [
  {
   "cell_type": "code",
   "execution_count": 1,
   "metadata": {},
   "outputs": [],
   "source": [
    "import json\n",
    "import ast\n",
    "import random\n",
    "import numpy as np\n",
    "import pandas as pd\n",
    "import matplotlib.pyplot as plt\n",
    "import seaborn as sns\n",
    "from zipfile import ZipFile"
   ]
  },
  {
   "cell_type": "code",
   "execution_count": 2,
   "metadata": {},
   "outputs": [],
   "source": [
    "data = pd.read_csv('./data/test.csv')\n",
    "data = data[['TAXI_ID', 'POLYLINE']]"
   ]
  },
  {
   "cell_type": "code",
   "execution_count": 3,
   "metadata": {},
   "outputs": [],
   "source": [
    "coordinates = []\n",
    "trips = np.array(data)\n",
    "for i in range(len(trips)):\n",
    "    point = trips[i]\n",
    "    taxi_id = point[0]\n",
    "    path = ast.literal_eval(point[1])\n",
    "    coordinates.append([taxi_id, path])"
   ]
  },
  {
   "cell_type": "code",
   "execution_count": 4,
   "metadata": {},
   "outputs": [],
   "source": [
    "def intermediates(p1, p2, nb_points=8):\n",
    "    x_spacing = (p2[0] - p1[0]) / (nb_points + 1)\n",
    "    y_spacing = (p2[1] - p1[1]) / (nb_points + 1)\n",
    "    return [[p1[0] + i * x_spacing, p1[1] +  i * y_spacing] \n",
    "            for i in range(1, nb_points+1)]"
   ]
  },
  {
   "cell_type": "code",
   "execution_count": 5,
   "metadata": {},
   "outputs": [
    {
     "output_type": "stream",
     "name": "stdout",
     "text": "[[2.5, 2.75], [4.0, 3.5], [5.5, 4.25], [7.0, 5.0], [8.5, 5.75]]\n"
    }
   ],
   "source": [
    "print(intermediates([1, 2], [10, 6.5], nb_points=5))"
   ]
  },
  {
   "cell_type": "code",
   "execution_count": 6,
   "metadata": {},
   "outputs": [],
   "source": [
    "from math import sin, cos, sqrt, atan2, radians\n",
    "R = 6373.0\n",
    "\n",
    "def calculate_distance(lat2, lon2, lat1, lon1):\n",
    "    lat1 = radians(lat1)\n",
    "    lon1 = radians(lon1)\n",
    "    lat2 = radians(lat2)\n",
    "    lon2 = radians(lon2)\n",
    "    dlon = lon2 - lon1\n",
    "    dlat = lat2 - lat1\n",
    "    a = (sin(dlat/2))**2 + cos(lat1) * cos(lat2) * (sin(dlon/2))**2\n",
    "    c = 2 * atan2(sqrt(a), sqrt(1-a))\n",
    "    distance = R * c\n",
    "    return(abs(distance))"
   ]
  },
  {
   "cell_type": "code",
   "execution_count": 7,
   "metadata": {},
   "outputs": [],
   "source": [
    "precision = 0.1 # 10 meters\n",
    "\n",
    "def generate_points(coordinate_one, coordinate_two):\n",
    "    distance = calculate_distance(coordinate_one[0], coordinate_one[1], coordinate_two[0],coordinate_two[1])\n",
    "    if(distance >= precision):\n",
    "        total_generated_points = int(abs(distance//precision))\n",
    "        return intermediates(coordinate_one, coordinate_two, nb_points=total_generated_points)\n",
    "    else:\n",
    "        return intermediates(coordinate_one, coordinate_two, nb_points=1)"
   ]
  },
  {
   "cell_type": "code",
   "execution_count": 8,
   "metadata": {},
   "outputs": [
    {
     "output_type": "execute_result",
     "data": {
      "text/plain": "[[1.0015, 2.0095]]"
     },
     "metadata": {},
     "execution_count": 8
    }
   ],
   "source": [
    "generate_points([1.002, 2.010], [1.001, 2.009])"
   ]
  },
  {
   "cell_type": "code",
   "execution_count": 9,
   "metadata": {},
   "outputs": [],
   "source": [
    "synthetic_data = []\n",
    "for record in coordinates:\n",
    "    taxi_id = record[0]\n",
    "    orignal_path = record[1]\n",
    "    generated_path = []\n",
    "    for point_index in range(len(orignal_path) - 1):\n",
    "        generated_path += generate_points(orignal_path[point_index], orignal_path[point_index + 1])\n",
    "    synthetic_data.append([taxi_id, generated_path])"
   ]
  },
  {
   "cell_type": "code",
   "execution_count": 10,
   "metadata": {},
   "outputs": [],
   "source": [
    "a = pd.DataFrame(synthetic_data, columns=['TAXI_ID', 'POLYLINE'])\n",
    "b = pd.read_csv('./data/test.csv')"
   ]
  },
  {
   "cell_type": "code",
   "execution_count": 13,
   "metadata": {},
   "outputs": [],
   "source": [
    "c = pd.concat([b, a], ignore_index=True, sort=False, axis=1)\n",
    "c = c.drop([10, 9], axis=1)\n",
    "c = pd.DataFrame(c.values, columns=['', 'TRIP_ID', 'CALL_TYPE', 'ORIGIN_CALL', 'ORIGIN_STAND', 'TAXI_ID', 'TIMESTAMP', 'DAY_TYPE', 'MISSING DATA', 'POLYLINE'])\n",
    "c.to_csv('./data/synthetic_data.csv', index=False)"
   ]
  },
  {
   "cell_type": "code",
   "execution_count": 14,
   "metadata": {},
   "outputs": [
    {
     "output_type": "execute_result",
     "data": {
      "text/plain": "                  TRIP_ID CALL_TYPE ORIGIN_CALL ORIGIN_STAND   TAXI_ID  \\\n0  0  1372636858620000589         C         NaN          NaN  20000589   \n1  1  1372637303620000596         B         NaN            7  20000596   \n2  2  1372636951620000320         C         NaN          NaN  20000320   \n3  3  1372636854620000520         C         NaN          NaN  20000520   \n4  4  1372637091620000337         C         NaN          NaN  20000337   \n\n    TIMESTAMP DAY_TYPE MISSING DATA  \\\n0  1372636858        A        False   \n1  1372637303        A        False   \n2  1372636951        A        False   \n3  1372636854        A        False   \n4  1372637091        A        False   \n\n                                            POLYLINE  \n0  [[-8.618571, 41.141394000000005], [-8.619108, ...  \n1  [[-8.640099, 41.1598485], [-8.640966, 41.15995...  \n2  [[-8.613171000000001, 41.1403545], [-8.6137965...  \n3  [[-8.5746915, 41.151946499999994], [-8.5747004...  \n4  [[-8.6459715, 41.1805035], [-8.645998500000001...  ",
      "text/html": "<div>\n<style scoped>\n    .dataframe tbody tr th:only-of-type {\n        vertical-align: middle;\n    }\n\n    .dataframe tbody tr th {\n        vertical-align: top;\n    }\n\n    .dataframe thead th {\n        text-align: right;\n    }\n</style>\n<table border=\"1\" class=\"dataframe\">\n  <thead>\n    <tr style=\"text-align: right;\">\n      <th></th>\n      <th></th>\n      <th>TRIP_ID</th>\n      <th>CALL_TYPE</th>\n      <th>ORIGIN_CALL</th>\n      <th>ORIGIN_STAND</th>\n      <th>TAXI_ID</th>\n      <th>TIMESTAMP</th>\n      <th>DAY_TYPE</th>\n      <th>MISSING DATA</th>\n      <th>POLYLINE</th>\n    </tr>\n  </thead>\n  <tbody>\n    <tr>\n      <td>0</td>\n      <td>0</td>\n      <td>1372636858620000589</td>\n      <td>C</td>\n      <td>NaN</td>\n      <td>NaN</td>\n      <td>20000589</td>\n      <td>1372636858</td>\n      <td>A</td>\n      <td>False</td>\n      <td>[[-8.618571, 41.141394000000005], [-8.619108, ...</td>\n    </tr>\n    <tr>\n      <td>1</td>\n      <td>1</td>\n      <td>1372637303620000596</td>\n      <td>B</td>\n      <td>NaN</td>\n      <td>7</td>\n      <td>20000596</td>\n      <td>1372637303</td>\n      <td>A</td>\n      <td>False</td>\n      <td>[[-8.640099, 41.1598485], [-8.640966, 41.15995...</td>\n    </tr>\n    <tr>\n      <td>2</td>\n      <td>2</td>\n      <td>1372636951620000320</td>\n      <td>C</td>\n      <td>NaN</td>\n      <td>NaN</td>\n      <td>20000320</td>\n      <td>1372636951</td>\n      <td>A</td>\n      <td>False</td>\n      <td>[[-8.613171000000001, 41.1403545], [-8.6137965...</td>\n    </tr>\n    <tr>\n      <td>3</td>\n      <td>3</td>\n      <td>1372636854620000520</td>\n      <td>C</td>\n      <td>NaN</td>\n      <td>NaN</td>\n      <td>20000520</td>\n      <td>1372636854</td>\n      <td>A</td>\n      <td>False</td>\n      <td>[[-8.5746915, 41.151946499999994], [-8.5747004...</td>\n    </tr>\n    <tr>\n      <td>4</td>\n      <td>4</td>\n      <td>1372637091620000337</td>\n      <td>C</td>\n      <td>NaN</td>\n      <td>NaN</td>\n      <td>20000337</td>\n      <td>1372637091</td>\n      <td>A</td>\n      <td>False</td>\n      <td>[[-8.6459715, 41.1805035], [-8.645998500000001...</td>\n    </tr>\n  </tbody>\n</table>\n</div>"
     },
     "metadata": {},
     "execution_count": 14
    }
   ],
   "source": [
    "c.head()"
   ]
  },
  {
   "cell_type": "code",
   "execution_count": null,
   "metadata": {},
   "outputs": [],
   "source": []
  }
 ],
 "metadata": {
  "kernelspec": {
   "display_name": "Python 3",
   "language": "python",
   "name": "python3"
  },
  "language_info": {
   "codemirror_mode": {
    "name": "ipython",
    "version": 3
   },
   "file_extension": ".py",
   "mimetype": "text/x-python",
   "name": "python",
   "nbconvert_exporter": "python",
   "pygments_lexer": "ipython3",
   "version": "3.7.4-final"
  }
 },
 "nbformat": 4,
 "nbformat_minor": 2
}